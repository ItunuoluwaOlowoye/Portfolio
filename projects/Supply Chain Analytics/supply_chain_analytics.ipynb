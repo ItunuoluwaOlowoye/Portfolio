{
 "cells": [
  {
   "cell_type": "markdown",
   "metadata": {},
   "source": [
    "# 📖 A Journey to Optimize the Supply Chain for Just In Time\n",
    "**Analyst: Itunuoluwa Olowoye**"
   ]
  },
  {
   "cell_type": "markdown",
   "metadata": {},
   "source": [
    "At Just In Time, in the heart of our bustling commerce, our mission here today is simple. We are identifying shipment and inventory challenges, uncovering insights and creating dashboards for actionable solutions.<br>\n",
    "Imagine busy warehouses loaded with products, and stores processing and delivering customer orders. We will dive into the data, spot potential delays and improve operations. The data is contained in `.csv` files in the `data/` folder provided.\n",
    "\n",
    "What is the outcome? User-friendly dashboards with a clear supply chain story from shipment processing to inventory management, and the economic and behavioural concepts that govern them for a more efficient future.<br><br>\n",
    "![](data/shipments.jpg)"
   ]
  },
  {
   "cell_type": "markdown",
   "metadata": {},
   "source": [
    "## Data Preparation\n",
    "Three datasets were provided: Orders and Shipments, Inventory, and Warehouse Fulfillment."
   ]
  },
  {
   "cell_type": "code",
   "execution_count": 52,
   "metadata": {},
   "outputs": [],
   "source": [
    "# import modules\n",
    "import pandas as pd\n",
    "import numpy as np\n",
    "from matplotlib import pyplot as plt\n",
    "from sklearn.preprocessing import StandardScaler\n",
    "from sklearn.cluster import KMeans\n",
    "from mlxtend.frequent_patterns import apriori\n",
    "from mlxtend.frequent_patterns import association_rules\n",
    "import warnings\n",
    "warnings.filterwarnings('ignore')"
   ]
  },
  {
   "cell_type": "markdown",
   "metadata": {},
   "source": [
    "### Data Cleaning"
   ]
  },
  {
   "cell_type": "code",
   "execution_count": 53,
   "metadata": {},
   "outputs": [],
   "source": [
    "# define a function to load and clean the data\n",
    "def load_data(file, date_sets={}):\n",
    "    \n",
    "    df = pd.read_csv(file, skipinitialspace=True) # read file\n",
    "    df.columns = df.columns.str.strip() # remove whitespace from column headers\n",
    "    # create date column in correct format; write set of columns corresponding to a complete date in a dictionary;\n",
    "    # for each set of columns corresponding to a complete date\n",
    "    for set in date_sets.keys():\n",
    "        value = date_sets[set] # store the column names in a variable in year, month, day, time format\n",
    "        try:\n",
    "            # extract year, month and day\n",
    "            year= value.split(',')[0].strip(); month= value.split(',')[1].strip(); day= value.split(',')[2].strip()\n",
    "            # join year, month and day columns together in YYYYMMDD format\n",
    "            df[set + ' Date'] = df[year].astype(str) + df[month].astype(str).str.zfill(2) + df[day].astype(str).str.zfill(2)\n",
    "            df.drop(value.split(', '), axis=1, inplace=True) # drop individual date columns from the dataframe\n",
    "            df[set + ' Date'] = pd.to_datetime(df[set + ' Date'], format='%Y%m%d') # convert new date column to datetime\n",
    "        except IndexError:\n",
    "            df[set + ' Date'] = pd.to_datetime(df[value], format='%Y%m') # convert existing column to datetime\n",
    "        except Exception as error:\n",
    "            print(error) # print error encountered\n",
    "    for col in df.columns: # for each column in the dataframe\n",
    "        if df[col].dtype=='object': # if datatype is string\n",
    "            df[col] = df[col].str.replace('  ',' ').str.strip() # remove whitespace from column values\n",
    "\n",
    "    return df"
   ]
  },
  {
   "cell_type": "code",
   "execution_count": 54,
   "metadata": {},
   "outputs": [],
   "source": [
    "# load and clean files as needed\n",
    "orders_shipments = load_data('data/orders_and_shipments.csv',\n",
    "                             date_sets={'Order': 'Order Year, Order Month, Order Day, Order Time',\n",
    "                                        'Shipment': 'Shipment Year, Shipment Month, Shipment Day'})\n",
    "\n",
    "inventory = load_data('data/inventory.csv', date_sets={'Inventory':'Year Month'})\n",
    "\n",
    "warehouse = load_data('data/fulfillment.csv')"
   ]
  },
  {
   "cell_type": "code",
   "execution_count": 55,
   "metadata": {},
   "outputs": [
    {
     "data": {
      "text/html": [
       "<div>\n",
       "<style scoped>\n",
       "    .dataframe tbody tr th:only-of-type {\n",
       "        vertical-align: middle;\n",
       "    }\n",
       "\n",
       "    .dataframe tbody tr th {\n",
       "        vertical-align: top;\n",
       "    }\n",
       "\n",
       "    .dataframe thead th {\n",
       "        text-align: right;\n",
       "    }\n",
       "</style>\n",
       "<table border=\"1\" class=\"dataframe\">\n",
       "  <thead>\n",
       "    <tr style=\"text-align: right;\">\n",
       "      <th></th>\n",
       "      <th>Order ID</th>\n",
       "      <th>Order Item ID</th>\n",
       "      <th>Order YearMonth</th>\n",
       "      <th>Order Quantity</th>\n",
       "      <th>Product Department</th>\n",
       "      <th>Product Category</th>\n",
       "      <th>Product Name</th>\n",
       "      <th>Customer ID</th>\n",
       "      <th>Customer Market</th>\n",
       "      <th>Customer Region</th>\n",
       "      <th>Customer Country</th>\n",
       "      <th>Warehouse Country</th>\n",
       "      <th>Shipment Mode</th>\n",
       "      <th>Shipment Days - Scheduled</th>\n",
       "      <th>Gross Sales</th>\n",
       "      <th>Discount %</th>\n",
       "      <th>Profit</th>\n",
       "      <th>Order Date</th>\n",
       "      <th>Shipment Date</th>\n",
       "    </tr>\n",
       "  </thead>\n",
       "  <tbody>\n",
       "    <tr>\n",
       "      <th>0</th>\n",
       "      <td>3535</td>\n",
       "      <td>8793</td>\n",
       "      <td>201502</td>\n",
       "      <td>1</td>\n",
       "      <td>Fan Shop</td>\n",
       "      <td>Fishing</td>\n",
       "      <td>Field &amp; Stream Sportsman 16 Gun Fire Safe</td>\n",
       "      <td>7840</td>\n",
       "      <td>LATAM</td>\n",
       "      <td>Central America</td>\n",
       "      <td>Mexico</td>\n",
       "      <td>Puerto Rico</td>\n",
       "      <td>Standard Class</td>\n",
       "      <td>4</td>\n",
       "      <td>400</td>\n",
       "      <td>0.25</td>\n",
       "      <td>200</td>\n",
       "      <td>2015-02-21</td>\n",
       "      <td>2015-02-27</td>\n",
       "    </tr>\n",
       "  </tbody>\n",
       "</table>\n",
       "</div>"
      ],
      "text/plain": [
       "   Order ID  Order Item ID  Order YearMonth  Order Quantity  \\\n",
       "0      3535           8793           201502               1   \n",
       "\n",
       "  Product Department Product Category  \\\n",
       "0           Fan Shop          Fishing   \n",
       "\n",
       "                                Product Name  Customer ID Customer Market  \\\n",
       "0  Field & Stream Sportsman 16 Gun Fire Safe         7840           LATAM   \n",
       "\n",
       "   Customer Region Customer Country Warehouse Country   Shipment Mode  \\\n",
       "0  Central America           Mexico       Puerto Rico  Standard Class   \n",
       "\n",
       "   Shipment Days - Scheduled  Gross Sales Discount %  Profit Order Date  \\\n",
       "0                          4          400       0.25     200 2015-02-21   \n",
       "\n",
       "  Shipment Date  \n",
       "0    2015-02-27  "
      ]
     },
     "metadata": {},
     "output_type": "display_data"
    },
    {
     "data": {
      "text/html": [
       "<div>\n",
       "<style scoped>\n",
       "    .dataframe tbody tr th:only-of-type {\n",
       "        vertical-align: middle;\n",
       "    }\n",
       "\n",
       "    .dataframe tbody tr th {\n",
       "        vertical-align: top;\n",
       "    }\n",
       "\n",
       "    .dataframe thead th {\n",
       "        text-align: right;\n",
       "    }\n",
       "</style>\n",
       "<table border=\"1\" class=\"dataframe\">\n",
       "  <thead>\n",
       "    <tr style=\"text-align: right;\">\n",
       "      <th></th>\n",
       "      <th>Product Name</th>\n",
       "      <th>Year Month</th>\n",
       "      <th>Warehouse Inventory</th>\n",
       "      <th>Inventory Cost Per Unit</th>\n",
       "      <th>Inventory Date</th>\n",
       "    </tr>\n",
       "  </thead>\n",
       "  <tbody>\n",
       "    <tr>\n",
       "      <th>0</th>\n",
       "      <td>Perfect Fitness Perfect Rip Deck</td>\n",
       "      <td>201712</td>\n",
       "      <td>0</td>\n",
       "      <td>0.69517</td>\n",
       "      <td>2017-12-01</td>\n",
       "    </tr>\n",
       "  </tbody>\n",
       "</table>\n",
       "</div>"
      ],
      "text/plain": [
       "                       Product Name  Year Month  Warehouse Inventory  \\\n",
       "0  Perfect Fitness Perfect Rip Deck      201712                    0   \n",
       "\n",
       "   Inventory Cost Per Unit Inventory Date  \n",
       "0                  0.69517     2017-12-01  "
      ]
     },
     "metadata": {},
     "output_type": "display_data"
    },
    {
     "data": {
      "text/html": [
       "<div>\n",
       "<style scoped>\n",
       "    .dataframe tbody tr th:only-of-type {\n",
       "        vertical-align: middle;\n",
       "    }\n",
       "\n",
       "    .dataframe tbody tr th {\n",
       "        vertical-align: top;\n",
       "    }\n",
       "\n",
       "    .dataframe thead th {\n",
       "        text-align: right;\n",
       "    }\n",
       "</style>\n",
       "<table border=\"1\" class=\"dataframe\">\n",
       "  <thead>\n",
       "    <tr style=\"text-align: right;\">\n",
       "      <th></th>\n",
       "      <th>Product Name</th>\n",
       "      <th>Warehouse Order Fulfillment (days)</th>\n",
       "    </tr>\n",
       "  </thead>\n",
       "  <tbody>\n",
       "    <tr>\n",
       "      <th>0</th>\n",
       "      <td>Perfect Fitness Perfect Rip Deck</td>\n",
       "      <td>8.3</td>\n",
       "    </tr>\n",
       "  </tbody>\n",
       "</table>\n",
       "</div>"
      ],
      "text/plain": [
       "                       Product Name  Warehouse Order Fulfillment (days)\n",
       "0  Perfect Fitness Perfect Rip Deck                                 8.3"
      ]
     },
     "metadata": {},
     "output_type": "display_data"
    }
   ],
   "source": [
    "# inspect data\n",
    "display(orders_shipments.head(1))\n",
    "display(inventory.head(1))\n",
    "display(warehouse.head(1))"
   ]
  },
  {
   "cell_type": "code",
   "execution_count": 56,
   "metadata": {},
   "outputs": [],
   "source": [
    "# save prepared dataframes\n",
    "orders_shipments.to_csv('data/orders_and_shipments_prepped.csv', index=False)\n",
    "inventory.to_csv('data/inventory_prepped.csv', index=False)\n",
    "warehouse.to_csv('data/fulfillment_prepped.csv', index=False)"
   ]
  },
  {
   "cell_type": "markdown",
   "metadata": {},
   "source": [
    "### Creating Recency, Frequency, and Monetary Value (RFM) Data for Customer Behaviour Segmentation"
   ]
  },
  {
   "cell_type": "code",
   "execution_count": 57,
   "metadata": {},
   "outputs": [],
   "source": [
    "# group by customer id and calculate last order date and number of unique orders placed by each customer\n",
    "rf_df = orders_shipments.groupby('Customer ID').agg(Recency = ('Order Date', 'max'),\n",
    "                                                    Frequency = ('Order ID', 'nunique'))"
   ]
  },
  {
   "cell_type": "code",
   "execution_count": 58,
   "metadata": {},
   "outputs": [],
   "source": [
    "# store max date of orders table in a variable\n",
    "max_date = orders_shipments['Order Date'].max()\n",
    "# calculate recency for each customer\n",
    "rf_df['Recency'] = (max_date - rf_df['Recency']).dt.days"
   ]
  },
  {
   "cell_type": "code",
   "execution_count": 59,
   "metadata": {},
   "outputs": [],
   "source": [
    "# calculate average sales generated by each customer\n",
    "# the orders are split by order items so we add all sales in each customer order first \n",
    "# then calculate the average sales of orders for each customer\n",
    "m_df = orders_shipments.groupby(['Customer ID','Order ID']).sum().reset_index()\\\n",
    "    .groupby('Customer ID').agg(MonetaryValue = ('Gross Sales', 'mean'))"
   ]
  },
  {
   "cell_type": "code",
   "execution_count": 60,
   "metadata": {},
   "outputs": [],
   "source": [
    "# create rfm dataset\n",
    "df_rfm = pd.concat([rf_df, m_df], axis=1)"
   ]
  },
  {
   "cell_type": "code",
   "execution_count": 61,
   "metadata": {},
   "outputs": [],
   "source": [
    "# create a copy\n",
    "rfm_raw = df_rfm.copy()"
   ]
  },
  {
   "cell_type": "code",
   "execution_count": 62,
   "metadata": {},
   "outputs": [
    {
     "name": "stdout",
     "output_type": "stream",
     "text": [
      "Log transformation on Frequency\n"
     ]
    }
   ],
   "source": [
    "# check for skewness, and perform log/cubic transformation if the data is skewed\n",
    "for col in df_rfm:\n",
    "    skew = df_rfm[col].skew() # calculate skew\n",
    "    if (skew <= -1) or (skew >= 1): # if skew is not within -1 to 1\n",
    "        transform = np.log(df_rfm[col]) # transform to log scale\n",
    "        if transform.min() == float('-inf') or transform.max() == float('inf'): # if log transformation includes infinity values\n",
    "            transform = np.cbrt(df_rfm[col]) # transform to cubic scale instead\n",
    "            message = f'Cubic transformation on {col}'\n",
    "        else: message = f'Log transformation on {col}'\n",
    "        print(message)\n",
    "        df_rfm[col] = transform"
   ]
  },
  {
   "cell_type": "code",
   "execution_count": 63,
   "metadata": {},
   "outputs": [],
   "source": [
    "# initialize a standard scaler to standardize data\n",
    "scaler = StandardScaler()"
   ]
  },
  {
   "cell_type": "code",
   "execution_count": 64,
   "metadata": {},
   "outputs": [],
   "source": [
    "# standardize df\n",
    "scaler.fit(df_rfm)\n",
    "df_rfm_norm = scaler.transform(df_rfm)\n",
    "df_rfm_norm = pd.DataFrame(df_rfm_norm, index=df_rfm.index, columns=df_rfm.columns)"
   ]
  },
  {
   "cell_type": "code",
   "execution_count": 65,
   "metadata": {},
   "outputs": [
    {
     "data": {
      "image/png": "[encoded data removed]",
      "text/plain": [
       "<Figure size 640x480 with 1 Axes>"
      ]
     },
     "metadata": {},
     "output_type": "display_data"
    }
   ],
   "source": [
    "# find optimum number of clusters\n",
    "sse= []\n",
    "for k in range(1,11):\n",
    "    kmeans= KMeans(n_clusters=k,n_init= 10,max_iter=300,tol=0.0001)\n",
    "    a= kmeans.fit(df_rfm_norm)\n",
    "    sse.append(a.inertia_)\n",
    "plt.plot(range(1,11),sse,'-');\n",
    "plt.plot(range(1,11),sse,'o');"
   ]
  },
  {
   "cell_type": "code",
   "execution_count": 72,
   "metadata": {},
   "outputs": [],
   "source": [
    "# create clusters\n",
    "kmeans= KMeans(n_clusters=6, random_state=42)\n",
    "kmeans.fit(df_rfm_norm)\n",
    "cluster_labels = list(kmeans.labels_)"
   ]
  },
  {
   "cell_type": "code",
   "execution_count": 73,
   "metadata": {},
   "outputs": [],
   "source": [
    "# assign clusters to raw data\n",
    "rfm_raw = rfm_raw.assign(Cluster = cluster_labels)"
   ]
  },
  {
   "cell_type": "code",
   "execution_count": 74,
   "metadata": {},
   "outputs": [],
   "source": [
    "# define a function to change cluster numbers to alphabets\n",
    "def number_to_alphabet(number):\n",
    "    if 0 <= number <= 25: return chr(number + 97).upper()\n",
    "    else: return None"
   ]
  },
  {
   "cell_type": "code",
   "execution_count": 75,
   "metadata": {},
   "outputs": [],
   "source": [
    "# change numbers to alphabets\n",
    "rfm_raw['Segment'] = rfm_raw['Cluster'].apply(number_to_alphabet)"
   ]
  },
  {
   "cell_type": "code",
   "execution_count": 76,
   "metadata": {},
   "outputs": [
    {
     "data": {
      "text/html": [
       "<div>\n",
       "<style scoped>\n",
       "    .dataframe tbody tr th:only-of-type {\n",
       "        vertical-align: middle;\n",
       "    }\n",
       "\n",
       "    .dataframe tbody tr th {\n",
       "        vertical-align: top;\n",
       "    }\n",
       "\n",
       "    .dataframe thead th {\n",
       "        text-align: right;\n",
       "    }\n",
       "</style>\n",
       "<table border=\"1\" class=\"dataframe\">\n",
       "  <thead>\n",
       "    <tr style=\"text-align: right;\">\n",
       "      <th></th>\n",
       "      <th>Recency</th>\n",
       "      <th>Frequency</th>\n",
       "      <th>MonetaryValue</th>\n",
       "      <th>Cluster</th>\n",
       "      <th>Segment</th>\n",
       "    </tr>\n",
       "    <tr>\n",
       "      <th>Customer ID</th>\n",
       "      <th></th>\n",
       "      <th></th>\n",
       "      <th></th>\n",
       "      <th></th>\n",
       "      <th></th>\n",
       "    </tr>\n",
       "  </thead>\n",
       "  <tbody>\n",
       "    <tr>\n",
       "      <th>2</th>\n",
       "      <td>237</td>\n",
       "      <td>3</td>\n",
       "      <td>573.333333</td>\n",
       "      <td>3</td>\n",
       "      <td>D</td>\n",
       "    </tr>\n",
       "  </tbody>\n",
       "</table>\n",
       "</div>"
      ],
      "text/plain": [
       "             Recency  Frequency  MonetaryValue  Cluster Segment\n",
       "Customer ID                                                    \n",
       "2                237          3     573.333333        3       D"
      ]
     },
     "execution_count": 76,
     "metadata": {},
     "output_type": "execute_result"
    }
   ],
   "source": [
    "# inspect dataframe\n",
    "rfm_raw.head(1)"
   ]
  },
  {
   "cell_type": "code",
   "execution_count": 77,
   "metadata": {},
   "outputs": [],
   "source": [
    "# save data\n",
    "rfm_raw.to_csv('data/customer_segments.csv')"
   ]
  },
  {
   "cell_type": "markdown",
   "metadata": {},
   "source": [
    "### Creating Association Data For Market Basket Analysis"
   ]
  },
  {
   "cell_type": "code",
   "execution_count": 47,
   "metadata": {},
   "outputs": [],
   "source": [
    "# create a function to change numbers to binary\n",
    "def encoding(x, num=0):\n",
    "    if x<=num: return False\n",
    "    else: return True"
   ]
  },
  {
   "cell_type": "code",
   "execution_count": 48,
   "metadata": {},
   "outputs": [],
   "source": [
    "# separate the orders/shipment data based on customer country\n",
    "countries_dfs = {} # create an empty dictionary to store data\n",
    "for country in orders_shipments['Customer Country'].unique(): # for every unique country\n",
    "    df = orders_shipments[orders_shipments['Customer Country']==country] # filter data to data for that country\n",
    "    countries_dfs[country] = df # store data as a key value pair in dictionary"
   ]
  },
  {
   "cell_type": "code",
   "execution_count": 49,
   "metadata": {},
   "outputs": [],
   "source": [
    "# create dataframe of market basket association rules\n",
    "rules_df = pd.DataFrame() # create an empty dataframe\n",
    "for country in countries_dfs.keys(): # for each country's data\n",
    "    df = countries_dfs[country] # store data in variable\n",
    "    market_basket = df.groupby(['Order ID','Product Name']).size().to_frame('count').unstack().fillna(0) # create market basket\n",
    "    market_basket.columns = market_basket.columns.droplevel() # remove multi-level column\n",
    "    market_basket = market_basket.applymap(encoding) # convert from numbers to binary\n",
    "    frequent_items = apriori(market_basket, min_support=0.01, use_colnames=True) # find frequent items\n",
    "    rules = association_rules(frequent_items, metric='lift') # create association rules\n",
    "    rules = rules.explode('antecedents').explode('consequents') # split associations into separate rows\n",
    "    rules = rules.groupby(['antecedents','consequents']).mean(numeric_only=True).reset_index() # group by antecedent-consequent pairs\n",
    "    rules.rename(columns={'antecedents':'Product','consequents':'Associated Product','confidence':'Confidence'}, inplace=True) # rename columns\n",
    "    rules['Customer Country'] = country # create country column\n",
    "    if rules.empty is False: rules = rules.loc[:,['Product','Associated Product','Confidence','Customer Country']]\n",
    "    rules_df = pd.concat([rules_df, rules], axis=0) # store market basket in dataframe"
   ]
  },
  {
   "cell_type": "code",
   "execution_count": 50,
   "metadata": {},
   "outputs": [
    {
     "data": {
      "text/html": [
       "<div>\n",
       "<style scoped>\n",
       "    .dataframe tbody tr th:only-of-type {\n",
       "        vertical-align: middle;\n",
       "    }\n",
       "\n",
       "    .dataframe tbody tr th {\n",
       "        vertical-align: top;\n",
       "    }\n",
       "\n",
       "    .dataframe thead th {\n",
       "        text-align: right;\n",
       "    }\n",
       "</style>\n",
       "<table border=\"1\" class=\"dataframe\">\n",
       "  <thead>\n",
       "    <tr style=\"text-align: right;\">\n",
       "      <th></th>\n",
       "      <th>Product</th>\n",
       "      <th>Associated Product</th>\n",
       "      <th>Confidence</th>\n",
       "      <th>Customer Country</th>\n",
       "    </tr>\n",
       "  </thead>\n",
       "  <tbody>\n",
       "    <tr>\n",
       "      <th>0</th>\n",
       "      <td>Diamondback Women's Serene Classic Comfort Bi</td>\n",
       "      <td>Field &amp; Stream Sportsman 16 Gun Fire Safe</td>\n",
       "      <td>0.122474</td>\n",
       "      <td>Mexico</td>\n",
       "    </tr>\n",
       "  </tbody>\n",
       "</table>\n",
       "</div>"
      ],
      "text/plain": [
       "                                         Product  \\\n",
       "0  Diamondback Women's Serene Classic Comfort Bi   \n",
       "\n",
       "                          Associated Product  Confidence Customer Country  \n",
       "0  Field & Stream Sportsman 16 Gun Fire Safe    0.122474           Mexico  "
      ]
     },
     "execution_count": 50,
     "metadata": {},
     "output_type": "execute_result"
    }
   ],
   "source": [
    "# inspect dataframe\n",
    "rules_df.head(1)"
   ]
  },
  {
   "cell_type": "code",
   "execution_count": 51,
   "metadata": {},
   "outputs": [],
   "source": [
    "# save data\n",
    "rules_df.to_csv('data/market_baskets.csv',index=False)"
   ]
  },
  {
   "cell_type": "markdown",
   "metadata": {},
   "source": [
    "## 🧾 Executive Summary"
   ]
  },
  {
   "cell_type": "markdown",
   "metadata": {},
   "source": [
    "Our in-depth analysis of Just In Time's supply chain operations have shown us valuable insights that cab help to drive significant improvements.\n",
    "### Methodology\n",
    "We loaded and cleaned all datasets provided namely Orders and Shipments, Inventory, and Warehouse fulfilment. We conducted a first phase of transformation to prepare additional data for customer behavioural segmentation, and market basket analysis. We then loaded them all into PowerBI and transformed them from raw data into insights using Power Queries and DAX expressions.\n",
    "### Key Findings and Their Implications\n",
    "The data provided was from 2015 to 2017.\n",
    "1. Shipments:<br>There are recurring delays in processing shipments which could be responsible for the downturn in customer retention and purchase frequency. Almost half (~44%) of all order items were shipped late. In fact there was a general upward trend in the number of days shipments were delayed - a whooping increase from as low as a 2-day delay to as high as a 60-day delay. Would you want to wait two months to receive your order?<br>Also, the higher-end shipping modes were very inefficient. Majority of the order items shipped as First Class or Second Class arrived late. Customers would not be happy paying extra for shipping and getting poor delivery service.<br>\n",
    "\n",
    "2. Inventory Stock Levels:<br>Almost 71k products were supplied. $81k was spent on inventory and up to $22k of that could have been saved if stock levels were more balanced. Supply levels fluctuated wildly and were never quite on par with demand. Understanding the demand trends for each product will help to optimize stock levels, reduce carrying costs and can potentially reduce shipment delays that may be caused by understock.<br>\n",
    "\n",
    "3. Warehousing:<br>Both warehouses were involved in shipping order items. Certain products have demand and high warehouse restock time. Stock levels of these products need to be more closely monitored to ensure that supply and demand levels are close.<br>\n",
    "\n",
    "4. Demand and Profitability:<br>The top three demanded products were <br>\n",
    "    * Perfect Fitness Perfect Rip Deck (70% likely associated, on average with Bag Boy Beverage Holder), \n",
    "    * Nike Men's DriFIT Victory Golf Polo (71% likely associated, on average with Nike Women's Legend Tshirt), and \n",
    "    * O'Brien Men's Neoprene Life Vest (78% likely associated, on average with Titleist Pro V1 High Numbers Personalized Gol) respectively.<br>\n",
    "\n",
    "    The top three products with high profit margin were <br>\n",
    "    * Nike Men's Comfort 2 Slides (92% likely associated, on average with Nike Men's CJ Elite 2 TD Football Cleat), \n",
    "    * Hirzl Women's Soft Flex Golf Gloves (96% likely associated, on average with O'Brien Men's Neoprene Life Vest), and \n",
    "    * O'Brien Men's Neoprene Life Vest (*already mentioned*) respectively.<br>\n",
    "\n",
    "    In general, the Fan Shop department had the highest demand, sales, and profit of 18k, $2.93m, and $1.64m respectively, followed by the Golf and Apparel departments. In terms of profit margins, the Footwear department also shines.<br>Most orders come from the USA but Brazil also has a fair amount of demand.<br>\n",
    "\n",
    "5. Customer base:<br>There are almost 8000 customers in total and most of them come from the USA. Customer retention and purchase frequency is very poor and this could be due to above-mentioned inefficiencies in inventory and shipment. The RFM analysis identifies six segments of customers and while the absolute values of recency and frequency are not encouraging in all segments, customers in segments C and D are potentially retainable after customer delivery challenges have been solved.<br>\n",
    "### Conclusion and Recommendation\n",
    "Despite the challenges, Just In Time have managed to run on a profit. However, towards the end of 2017, order demand, sales and profit hit a low and we can do so much better. There are some recommendations if we are to bounce back at Just In Time. First, we need to address the general shipment delays and find the root cause of why delays can be as high as two months and solve it. Second, we need to provide better services for higher-end shipping modes. Third, we need to adopt demand forecasting methods and regular stock audits to ensure that we are at optimum stock level, as much as possible. Fourth, we can take advantage of closely associated products to understand demand trends. Finally, in the event that warehouses are needed in other continents, Brazil can be a good option for its fair number of customers and closeness to other countries who have not so great shipment times."
   ]
  },
  {
   "cell_type": "markdown",
   "metadata": {},
   "source": [
    "## 📷 Dashboard screenshot\n",
    "![](data\\dashboard_page.jpg)"
   ]
  },
  {
   "cell_type": "code",
   "execution_count": null,
   "metadata": {},
   "outputs": [],
   "source": []
  }
 ],
 "metadata": {
  "kernelspec": {
   "display_name": "streamlit",
   "language": "python",
   "name": "python3"
  },
  "language_info": {
   "codemirror_mode": {
    "name": "ipython",
    "version": 3
   },
   "file_extension": ".py",
   "mimetype": "text/x-python",
   "name": "python",
   "nbconvert_exporter": "python",
   "pygments_lexer": "ipython3",
   "version": "3.9.15"
  },
  "orig_nbformat": 4
 },
 "nbformat": 4,
 "nbformat_minor": 2
}

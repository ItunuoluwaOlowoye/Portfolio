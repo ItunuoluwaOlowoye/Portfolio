{
 "cells": [
  {
   "cell_type": "code",
   "execution_count": 1,
   "metadata": {},
   "outputs": [],
   "source": [
    "import pandas as pd\n",
    "import numpy as np\n",
    "import seaborn as sns\n",
    "from surprise import Dataset,Reader, SVD, SVDpp\n",
    "from surprise.model_selection.validation import cross_validate"
   ]
  },
  {
   "cell_type": "code",
   "execution_count": 2,
   "metadata": {},
   "outputs": [],
   "source": [
    "ratings = pd.read_csv('ratings_Tools_and_Home_Improvement.csv', names=['user','item','rating','timestamp'])"
   ]
  },
  {
   "cell_type": "code",
   "execution_count": 3,
   "metadata": {},
   "outputs": [],
   "source": [
    "reader = Reader()"
   ]
  },
  {
   "cell_type": "code",
   "execution_count": 4,
   "metadata": {},
   "outputs": [],
   "source": [
    "data = Dataset.load_from_df(ratings.drop('timestamp',axis=1),reader)"
   ]
  },
  {
   "cell_type": "code",
   "execution_count": 5,
   "metadata": {},
   "outputs": [],
   "source": [
    "trainset = data.build_full_trainset()"
   ]
  },
  {
   "cell_type": "code",
   "execution_count": 6,
   "metadata": {},
   "outputs": [],
   "source": [
    "products = {'item':ratings['item'].unique()}\n",
    "products_df = pd.DataFrame.from_records(products)"
   ]
  },
  {
   "cell_type": "code",
   "execution_count": 7,
   "metadata": {},
   "outputs": [],
   "source": [
    "customer = ratings.loc[0,'user']"
   ]
  },
  {
   "cell_type": "markdown",
   "metadata": {},
   "source": [
    "### With SVD"
   ]
  },
  {
   "cell_type": "code",
   "execution_count": 8,
   "metadata": {},
   "outputs": [],
   "source": [
    "svd = SVD()"
   ]
  },
  {
   "cell_type": "code",
   "execution_count": 9,
   "metadata": {},
   "outputs": [
    {
     "name": "stdout",
     "output_type": "stream",
     "text": [
      "Evaluating RMSE, MAE of algorithm SVD on 5 split(s).\n",
      "\n",
      "                  Fold 1  Fold 2  Fold 3  Fold 4  Fold 5  Mean    Std     \n",
      "RMSE (testset)    1.2256  1.2268  1.2265  1.2274  1.2265  1.2266  0.0006  \n",
      "MAE (testset)     0.9460  0.9473  0.9455  0.9480  0.9470  0.9467  0.0009  \n",
      "Fit time          31.09   31.84   32.63   47.21   46.73   37.90   7.42    \n",
      "Test time         2.49    2.47    3.01    3.95    5.64    3.51    1.19    \n"
     ]
    }
   ],
   "source": [
    "cv_svd = cross_validate(svd, data, verbose=True)"
   ]
  },
  {
   "cell_type": "code",
   "execution_count": 10,
   "metadata": {},
   "outputs": [
    {
     "data": {
      "text/plain": [
       "<surprise.prediction_algorithms.matrix_factorization.SVD at 0x1b3ac85c7c0>"
      ]
     },
     "execution_count": 10,
     "metadata": {},
     "output_type": "execute_result"
    }
   ],
   "source": [
    "svd.fit(trainset)"
   ]
  },
  {
   "cell_type": "code",
   "execution_count": 11,
   "metadata": {},
   "outputs": [],
   "source": [
    "products_df['svd_prediction'] = products_df['item'].apply(lambda x: svd.predict(customer, x).est)"
   ]
  },
  {
   "cell_type": "code",
   "execution_count": 12,
   "metadata": {},
   "outputs": [
    {
     "data": {
      "text/html": [
       "<div>\n",
       "<style scoped>\n",
       "    .dataframe tbody tr th:only-of-type {\n",
       "        vertical-align: middle;\n",
       "    }\n",
       "\n",
       "    .dataframe tbody tr th {\n",
       "        vertical-align: top;\n",
       "    }\n",
       "\n",
       "    .dataframe thead th {\n",
       "        text-align: right;\n",
       "    }\n",
       "</style>\n",
       "<table border=\"1\" class=\"dataframe\">\n",
       "  <thead>\n",
       "    <tr style=\"text-align: right;\">\n",
       "      <th></th>\n",
       "      <th>item</th>\n",
       "      <th>svd_prediction</th>\n",
       "    </tr>\n",
       "  </thead>\n",
       "  <tbody>\n",
       "    <tr>\n",
       "      <th>29376</th>\n",
       "      <td>B000BQT59U</td>\n",
       "      <td>5.000000</td>\n",
       "    </tr>\n",
       "    <tr>\n",
       "      <th>219508</th>\n",
       "      <td>B009UCQU94</td>\n",
       "      <td>5.000000</td>\n",
       "    </tr>\n",
       "    <tr>\n",
       "      <th>230649</th>\n",
       "      <td>B00BHLPOAW</td>\n",
       "      <td>5.000000</td>\n",
       "    </tr>\n",
       "    <tr>\n",
       "      <th>58119</th>\n",
       "      <td>B000QY7VWA</td>\n",
       "      <td>5.000000</td>\n",
       "    </tr>\n",
       "    <tr>\n",
       "      <th>85449</th>\n",
       "      <td>B001DSY50Y</td>\n",
       "      <td>5.000000</td>\n",
       "    </tr>\n",
       "    <tr>\n",
       "      <th>...</th>\n",
       "      <td>...</td>\n",
       "      <td>...</td>\n",
       "    </tr>\n",
       "    <tr>\n",
       "      <th>112122</th>\n",
       "      <td>B002N2P2E2</td>\n",
       "      <td>1.661057</td>\n",
       "    </tr>\n",
       "    <tr>\n",
       "      <th>12247</th>\n",
       "      <td>B00019LTXW</td>\n",
       "      <td>1.658923</td>\n",
       "    </tr>\n",
       "    <tr>\n",
       "      <th>230881</th>\n",
       "      <td>B00BIOBP7Y</td>\n",
       "      <td>1.656717</td>\n",
       "    </tr>\n",
       "    <tr>\n",
       "      <th>56118</th>\n",
       "      <td>B000P9BAHI</td>\n",
       "      <td>1.642271</td>\n",
       "    </tr>\n",
       "    <tr>\n",
       "      <th>111008</th>\n",
       "      <td>B002L6K51K</td>\n",
       "      <td>1.534640</td>\n",
       "    </tr>\n",
       "  </tbody>\n",
       "</table>\n",
       "<p>260659 rows × 2 columns</p>\n",
       "</div>"
      ],
      "text/plain": [
       "              item  svd_prediction\n",
       "29376   B000BQT59U        5.000000\n",
       "219508  B009UCQU94        5.000000\n",
       "230649  B00BHLPOAW        5.000000\n",
       "58119   B000QY7VWA        5.000000\n",
       "85449   B001DSY50Y        5.000000\n",
       "...            ...             ...\n",
       "112122  B002N2P2E2        1.661057\n",
       "12247   B00019LTXW        1.658923\n",
       "230881  B00BIOBP7Y        1.656717\n",
       "56118   B000P9BAHI        1.642271\n",
       "111008  B002L6K51K        1.534640\n",
       "\n",
       "[260659 rows x 2 columns]"
      ]
     },
     "execution_count": 12,
     "metadata": {},
     "output_type": "execute_result"
    }
   ],
   "source": [
    "products_df.sort_values(by='svd_prediction', ascending=False)"
   ]
  },
  {
   "cell_type": "markdown",
   "metadata": {},
   "source": [
    "### With SVDpp"
   ]
  },
  {
   "cell_type": "code",
   "execution_count": 13,
   "metadata": {},
   "outputs": [],
   "source": [
    "svdpp = SVDpp()"
   ]
  },
  {
   "cell_type": "code",
   "execution_count": 14,
   "metadata": {},
   "outputs": [
    {
     "name": "stdout",
     "output_type": "stream",
     "text": [
      "Evaluating RMSE, MAE of algorithm SVDpp on 5 split(s).\n",
      "\n",
      "                  Fold 1  Fold 2  Fold 3  Fold 4  Fold 5  Mean    Std     \n",
      "RMSE (testset)    1.2399  1.2341  1.2357  1.2382  1.2350  1.2366  0.0022  \n",
      "MAE (testset)     0.9487  0.9453  0.9456  0.9478  0.9455  0.9466  0.0014  \n",
      "Fit time          86.42   78.80   73.79   115.42  48.70   80.62   21.51   \n",
      "Test time         17.54   15.49   10.85   10.10   7.63    12.32   3.64    \n"
     ]
    }
   ],
   "source": [
    "cv_svdpp = cross_validate(svdpp, data, verbose=True)"
   ]
  },
  {
   "cell_type": "code",
   "execution_count": 15,
   "metadata": {},
   "outputs": [
    {
     "data": {
      "text/plain": [
       "<surprise.prediction_algorithms.matrix_factorization.SVDpp at 0x1b3b25e9490>"
      ]
     },
     "execution_count": 15,
     "metadata": {},
     "output_type": "execute_result"
    }
   ],
   "source": [
    "svdpp.fit(trainset)"
   ]
  },
  {
   "cell_type": "code",
   "execution_count": 16,
   "metadata": {},
   "outputs": [],
   "source": [
    "products_df['svdpp_prediction'] = products_df['item'].apply(lambda x: svdpp.predict(customer, x).est)"
   ]
  },
  {
   "cell_type": "code",
   "execution_count": 17,
   "metadata": {},
   "outputs": [
    {
     "data": {
      "text/html": [
       "<div>\n",
       "<style scoped>\n",
       "    .dataframe tbody tr th:only-of-type {\n",
       "        vertical-align: middle;\n",
       "    }\n",
       "\n",
       "    .dataframe tbody tr th {\n",
       "        vertical-align: top;\n",
       "    }\n",
       "\n",
       "    .dataframe thead th {\n",
       "        text-align: right;\n",
       "    }\n",
       "</style>\n",
       "<table border=\"1\" class=\"dataframe\">\n",
       "  <thead>\n",
       "    <tr style=\"text-align: right;\">\n",
       "      <th></th>\n",
       "      <th>item</th>\n",
       "      <th>svd_prediction</th>\n",
       "      <th>svdpp_prediction</th>\n",
       "    </tr>\n",
       "  </thead>\n",
       "  <tbody>\n",
       "    <tr>\n",
       "      <th>29376</th>\n",
       "      <td>B000BQT59U</td>\n",
       "      <td>5.000000</td>\n",
       "      <td>4.797458</td>\n",
       "    </tr>\n",
       "    <tr>\n",
       "      <th>219508</th>\n",
       "      <td>B009UCQU94</td>\n",
       "      <td>5.000000</td>\n",
       "      <td>4.838708</td>\n",
       "    </tr>\n",
       "    <tr>\n",
       "      <th>230649</th>\n",
       "      <td>B00BHLPOAW</td>\n",
       "      <td>5.000000</td>\n",
       "      <td>4.803803</td>\n",
       "    </tr>\n",
       "    <tr>\n",
       "      <th>58119</th>\n",
       "      <td>B000QY7VWA</td>\n",
       "      <td>5.000000</td>\n",
       "      <td>4.810505</td>\n",
       "    </tr>\n",
       "    <tr>\n",
       "      <th>85449</th>\n",
       "      <td>B001DSY50Y</td>\n",
       "      <td>5.000000</td>\n",
       "      <td>4.848935</td>\n",
       "    </tr>\n",
       "    <tr>\n",
       "      <th>...</th>\n",
       "      <td>...</td>\n",
       "      <td>...</td>\n",
       "      <td>...</td>\n",
       "    </tr>\n",
       "    <tr>\n",
       "      <th>112122</th>\n",
       "      <td>B002N2P2E2</td>\n",
       "      <td>1.661057</td>\n",
       "      <td>2.230029</td>\n",
       "    </tr>\n",
       "    <tr>\n",
       "      <th>12247</th>\n",
       "      <td>B00019LTXW</td>\n",
       "      <td>1.658923</td>\n",
       "      <td>2.935362</td>\n",
       "    </tr>\n",
       "    <tr>\n",
       "      <th>230881</th>\n",
       "      <td>B00BIOBP7Y</td>\n",
       "      <td>1.656717</td>\n",
       "      <td>3.880926</td>\n",
       "    </tr>\n",
       "    <tr>\n",
       "      <th>56118</th>\n",
       "      <td>B000P9BAHI</td>\n",
       "      <td>1.642271</td>\n",
       "      <td>2.943592</td>\n",
       "    </tr>\n",
       "    <tr>\n",
       "      <th>111008</th>\n",
       "      <td>B002L6K51K</td>\n",
       "      <td>1.534640</td>\n",
       "      <td>2.529267</td>\n",
       "    </tr>\n",
       "  </tbody>\n",
       "</table>\n",
       "<p>260659 rows × 3 columns</p>\n",
       "</div>"
      ],
      "text/plain": [
       "              item  svd_prediction  svdpp_prediction\n",
       "29376   B000BQT59U        5.000000          4.797458\n",
       "219508  B009UCQU94        5.000000          4.838708\n",
       "230649  B00BHLPOAW        5.000000          4.803803\n",
       "58119   B000QY7VWA        5.000000          4.810505\n",
       "85449   B001DSY50Y        5.000000          4.848935\n",
       "...            ...             ...               ...\n",
       "112122  B002N2P2E2        1.661057          2.230029\n",
       "12247   B00019LTXW        1.658923          2.935362\n",
       "230881  B00BIOBP7Y        1.656717          3.880926\n",
       "56118   B000P9BAHI        1.642271          2.943592\n",
       "111008  B002L6K51K        1.534640          2.529267\n",
       "\n",
       "[260659 rows x 3 columns]"
      ]
     },
     "execution_count": 17,
     "metadata": {},
     "output_type": "execute_result"
    }
   ],
   "source": [
    "products_df.sort_values(by='svd_prediction', ascending=False)"
   ]
  },
  {
   "cell_type": "code",
   "execution_count": null,
   "metadata": {},
   "outputs": [],
   "source": []
  }
 ],
 "metadata": {
  "kernelspec": {
   "display_name": "streamlit",
   "language": "python",
   "name": "python3"
  },
  "language_info": {
   "codemirror_mode": {
    "name": "ipython",
    "version": 3
   },
   "file_extension": ".py",
   "mimetype": "text/x-python",
   "name": "python",
   "nbconvert_exporter": "python",
   "pygments_lexer": "ipython3",
   "version": "3.9.15"
  },
  "orig_nbformat": 4
 },
 "nbformat": 4,
 "nbformat_minor": 2
}

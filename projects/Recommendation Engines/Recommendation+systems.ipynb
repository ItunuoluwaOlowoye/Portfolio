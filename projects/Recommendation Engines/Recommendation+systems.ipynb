{
 "cells": [
  {
   "cell_type": "code",
   "execution_count": 6,
   "id": "novel-soviet",
   "metadata": {},
   "outputs": [],
   "source": [
    "##pip install scikit-suprise\n",
    "\n",
    "import pandas as pd\n",
    "import numpy as np\n",
    "import seaborn as sns"
   ]
  },
  {
   "cell_type": "code",
   "execution_count": 3,
   "id": "romance-silence",
   "metadata": {},
   "outputs": [
    {
     "data": {
      "text/html": [
       "<div>\n",
       "<style scoped>\n",
       "    .dataframe tbody tr th:only-of-type {\n",
       "        vertical-align: middle;\n",
       "    }\n",
       "\n",
       "    .dataframe tbody tr th {\n",
       "        vertical-align: top;\n",
       "    }\n",
       "\n",
       "    .dataframe thead th {\n",
       "        text-align: right;\n",
       "    }\n",
       "</style>\n",
       "<table border=\"1\" class=\"dataframe\">\n",
       "  <thead>\n",
       "    <tr style=\"text-align: right;\">\n",
       "      <th></th>\n",
       "      <th>A15I9QV4OG22A6</th>\n",
       "      <th>001212835X</th>\n",
       "      <th>5.0</th>\n",
       "      <th>1389657600</th>\n",
       "    </tr>\n",
       "  </thead>\n",
       "  <tbody>\n",
       "    <tr>\n",
       "      <th>0</th>\n",
       "      <td>A1BNZ90HN39TYR</td>\n",
       "      <td>0205062040</td>\n",
       "      <td>5.0</td>\n",
       "      <td>1373846400</td>\n",
       "    </tr>\n",
       "    <tr>\n",
       "      <th>1</th>\n",
       "      <td>A9DUCBTL8K3E4</td>\n",
       "      <td>0205062040</td>\n",
       "      <td>5.0</td>\n",
       "      <td>1382659200</td>\n",
       "    </tr>\n",
       "    <tr>\n",
       "      <th>2</th>\n",
       "      <td>AA8O583KRYINX</td>\n",
       "      <td>0205062040</td>\n",
       "      <td>5.0</td>\n",
       "      <td>1372723200</td>\n",
       "    </tr>\n",
       "    <tr>\n",
       "      <th>3</th>\n",
       "      <td>A16CR5RCPXFMMA</td>\n",
       "      <td>0205062040</td>\n",
       "      <td>4.0</td>\n",
       "      <td>1364256000</td>\n",
       "    </tr>\n",
       "    <tr>\n",
       "      <th>4</th>\n",
       "      <td>A398X3UMHLCM93</td>\n",
       "      <td>0205062040</td>\n",
       "      <td>5.0</td>\n",
       "      <td>1368403200</td>\n",
       "    </tr>\n",
       "  </tbody>\n",
       "</table>\n",
       "</div>"
      ],
      "text/plain": [
       "   A15I9QV4OG22A6  001212835X  5.0  1389657600\n",
       "0  A1BNZ90HN39TYR  0205062040  5.0  1373846400\n",
       "1   A9DUCBTL8K3E4  0205062040  5.0  1382659200\n",
       "2   AA8O583KRYINX  0205062040  5.0  1372723200\n",
       "3  A16CR5RCPXFMMA  0205062040  4.0  1364256000\n",
       "4  A398X3UMHLCM93  0205062040  5.0  1368403200"
      ]
     },
     "execution_count": 3,
     "metadata": {},
     "output_type": "execute_result"
    }
   ],
   "source": [
    "home.head()"
   ]
  },
  {
   "cell_type": "code",
   "execution_count": 7,
   "id": "abstract-bachelor",
   "metadata": {},
   "outputs": [],
   "source": [
    "home= pd.read_csv('ratings_Tools_and_Home_improvement.csv',names=['user','item','rating','timestamp'])"
   ]
  },
  {
   "cell_type": "code",
   "execution_count": 8,
   "id": "hungry-spank",
   "metadata": {},
   "outputs": [
    {
     "data": {
      "text/html": [
       "<div>\n",
       "<style scoped>\n",
       "    .dataframe tbody tr th:only-of-type {\n",
       "        vertical-align: middle;\n",
       "    }\n",
       "\n",
       "    .dataframe tbody tr th {\n",
       "        vertical-align: top;\n",
       "    }\n",
       "\n",
       "    .dataframe thead th {\n",
       "        text-align: right;\n",
       "    }\n",
       "</style>\n",
       "<table border=\"1\" class=\"dataframe\">\n",
       "  <thead>\n",
       "    <tr style=\"text-align: right;\">\n",
       "      <th></th>\n",
       "      <th>user</th>\n",
       "      <th>item</th>\n",
       "      <th>rating</th>\n",
       "      <th>timestamp</th>\n",
       "    </tr>\n",
       "  </thead>\n",
       "  <tbody>\n",
       "    <tr>\n",
       "      <th>0</th>\n",
       "      <td>A15I9QV4OG22A6</td>\n",
       "      <td>001212835X</td>\n",
       "      <td>5.0</td>\n",
       "      <td>1389657600</td>\n",
       "    </tr>\n",
       "    <tr>\n",
       "      <th>1</th>\n",
       "      <td>A1BNZ90HN39TYR</td>\n",
       "      <td>0205062040</td>\n",
       "      <td>5.0</td>\n",
       "      <td>1373846400</td>\n",
       "    </tr>\n",
       "    <tr>\n",
       "      <th>2</th>\n",
       "      <td>A9DUCBTL8K3E4</td>\n",
       "      <td>0205062040</td>\n",
       "      <td>5.0</td>\n",
       "      <td>1382659200</td>\n",
       "    </tr>\n",
       "    <tr>\n",
       "      <th>3</th>\n",
       "      <td>AA8O583KRYINX</td>\n",
       "      <td>0205062040</td>\n",
       "      <td>5.0</td>\n",
       "      <td>1372723200</td>\n",
       "    </tr>\n",
       "    <tr>\n",
       "      <th>4</th>\n",
       "      <td>A16CR5RCPXFMMA</td>\n",
       "      <td>0205062040</td>\n",
       "      <td>4.0</td>\n",
       "      <td>1364256000</td>\n",
       "    </tr>\n",
       "  </tbody>\n",
       "</table>\n",
       "</div>"
      ],
      "text/plain": [
       "             user        item  rating   timestamp\n",
       "0  A15I9QV4OG22A6  001212835X     5.0  1389657600\n",
       "1  A1BNZ90HN39TYR  0205062040     5.0  1373846400\n",
       "2   A9DUCBTL8K3E4  0205062040     5.0  1382659200\n",
       "3   AA8O583KRYINX  0205062040     5.0  1372723200\n",
       "4  A16CR5RCPXFMMA  0205062040     4.0  1364256000"
      ]
     },
     "execution_count": 8,
     "metadata": {},
     "output_type": "execute_result"
    }
   ],
   "source": [
    "home.head()"
   ]
  },
  {
   "cell_type": "code",
   "execution_count": 10,
   "id": "worthy-intent",
   "metadata": {},
   "outputs": [],
   "source": [
    "from surprise import Dataset,Reader, SVD\n",
    "from surprise.model_selection.validation import cross_validate"
   ]
  },
  {
   "cell_type": "code",
   "execution_count": 11,
   "id": "bigger-sally",
   "metadata": {},
   "outputs": [],
   "source": [
    "reader= Reader()"
   ]
  },
  {
   "cell_type": "code",
   "execution_count": 12,
   "id": "cross-montreal",
   "metadata": {},
   "outputs": [],
   "source": [
    "data= Dataset.load_from_df(home[['user','item','rating']],reader)"
   ]
  },
  {
   "cell_type": "code",
   "execution_count": 13,
   "id": "southern-volleyball",
   "metadata": {},
   "outputs": [
    {
     "data": {
      "text/plain": [
       "<surprise.dataset.DatasetAutoFolds at 0x7fa39e7839a0>"
      ]
     },
     "execution_count": 13,
     "metadata": {},
     "output_type": "execute_result"
    }
   ],
   "source": [
    "data"
   ]
  },
  {
   "cell_type": "code",
   "execution_count": 14,
   "id": "lesbian-apparel",
   "metadata": {},
   "outputs": [],
   "source": [
    "svd=SVD()"
   ]
  },
  {
   "cell_type": "code",
   "execution_count": 15,
   "id": "incomplete-concept",
   "metadata": {},
   "outputs": [
    {
     "name": "stdout",
     "output_type": "stream",
     "text": [
      "Evaluating RMSE, MAE of algorithm SVD on 5 split(s).\n",
      "\n",
      "                  Fold 1  Fold 2  Fold 3  Fold 4  Fold 5  Mean    Std     \n",
      "RMSE (testset)    1.2267  1.2269  1.2248  1.2274  1.2275  1.2266  0.0010  \n",
      "MAE (testset)     0.9470  0.9472  0.9453  0.9474  0.9467  0.9467  0.0007  \n",
      "Fit time          85.22   96.07   130.40  125.55  168.12  121.07  29.09   \n",
      "Test time         3.39    3.65    6.72    4.76    2.54    4.21    1.44    \n"
     ]
    }
   ],
   "source": [
    "cv=cross_validate(svd,data,measures=['RMSE','MAE'],cv=5,verbose=True)"
   ]
  },
  {
   "cell_type": "code",
   "execution_count": 16,
   "id": "million-booking",
   "metadata": {},
   "outputs": [
    {
     "data": {
      "text/plain": [
       "{'test_rmse': array([1.22669341, 1.22689147, 1.22475033, 1.22737765, 1.22750023]),\n",
       " 'test_mae': array([0.94696746, 0.94716631, 0.94533655, 0.94740354, 0.94672917]),\n",
       " 'fit_time': (85.21889114379883,\n",
       "  96.07308983802795,\n",
       "  130.39517211914062,\n",
       "  125.55419707298279,\n",
       "  168.12036609649658),\n",
       " 'test_time': (3.3930270671844482,\n",
       "  3.6460490226745605,\n",
       "  6.722504138946533,\n",
       "  4.7561421394348145,\n",
       "  2.5428338050842285)}"
      ]
     },
     "execution_count": 16,
     "metadata": {},
     "output_type": "execute_result"
    }
   ],
   "source": [
    "cv"
   ]
  },
  {
   "cell_type": "code",
   "execution_count": 17,
   "id": "centered-rider",
   "metadata": {},
   "outputs": [],
   "source": [
    "training= data.build_full_trainset()"
   ]
  },
  {
   "cell_type": "code",
   "execution_count": 19,
   "id": "accompanied-rolling",
   "metadata": {},
   "outputs": [
    {
     "data": {
      "text/plain": [
       "<surprise.prediction_algorithms.matrix_factorization.SVD at 0x7fa384e6d910>"
      ]
     },
     "execution_count": 19,
     "metadata": {},
     "output_type": "execute_result"
    }
   ],
   "source": [
    "svd.fit(training)"
   ]
  },
  {
   "cell_type": "code",
   "execution_count": 20,
   "id": "continental-definition",
   "metadata": {},
   "outputs": [],
   "source": [
    "products= pd.DataFrame({'item': np.unique(home['item'])}).reset_index().drop('index',axis=1)"
   ]
  },
  {
   "cell_type": "code",
   "execution_count": 21,
   "id": "understood-assessment",
   "metadata": {},
   "outputs": [
    {
     "data": {
      "text/plain": [
       "260659"
      ]
     },
     "execution_count": 21,
     "metadata": {},
     "output_type": "execute_result"
    }
   ],
   "source": [
    "len(products)"
   ]
  },
  {
   "cell_type": "code",
   "execution_count": 22,
   "id": "existing-thunder",
   "metadata": {},
   "outputs": [],
   "source": [
    "product_sample= products.sample(frac=0.01)"
   ]
  },
  {
   "cell_type": "code",
   "execution_count": 23,
   "id": "graphic-listening",
   "metadata": {},
   "outputs": [
    {
     "data": {
      "text/html": [
       "<div>\n",
       "<style scoped>\n",
       "    .dataframe tbody tr th:only-of-type {\n",
       "        vertical-align: middle;\n",
       "    }\n",
       "\n",
       "    .dataframe tbody tr th {\n",
       "        vertical-align: top;\n",
       "    }\n",
       "\n",
       "    .dataframe thead th {\n",
       "        text-align: right;\n",
       "    }\n",
       "</style>\n",
       "<table border=\"1\" class=\"dataframe\">\n",
       "  <thead>\n",
       "    <tr style=\"text-align: right;\">\n",
       "      <th></th>\n",
       "      <th>item</th>\n",
       "    </tr>\n",
       "  </thead>\n",
       "  <tbody>\n",
       "    <tr>\n",
       "      <th>252426</th>\n",
       "      <td>B00G5R4E3Q</td>\n",
       "    </tr>\n",
       "    <tr>\n",
       "      <th>16552</th>\n",
       "      <td>B0002YPZLI</td>\n",
       "    </tr>\n",
       "    <tr>\n",
       "      <th>129070</th>\n",
       "      <td>B003E36UJU</td>\n",
       "    </tr>\n",
       "    <tr>\n",
       "      <th>188150</th>\n",
       "      <td>B006SEMQEK</td>\n",
       "    </tr>\n",
       "    <tr>\n",
       "      <th>235215</th>\n",
       "      <td>B00C8O2BM6</td>\n",
       "    </tr>\n",
       "    <tr>\n",
       "      <th>...</th>\n",
       "      <td>...</td>\n",
       "    </tr>\n",
       "    <tr>\n",
       "      <th>232724</th>\n",
       "      <td>B00BRYE6PI</td>\n",
       "    </tr>\n",
       "    <tr>\n",
       "      <th>78731</th>\n",
       "      <td>B0018OFVEM</td>\n",
       "    </tr>\n",
       "    <tr>\n",
       "      <th>47272</th>\n",
       "      <td>B000KSW1SG</td>\n",
       "    </tr>\n",
       "    <tr>\n",
       "      <th>6727</th>\n",
       "      <td>B00004Z2WN</td>\n",
       "    </tr>\n",
       "    <tr>\n",
       "      <th>240963</th>\n",
       "      <td>B00D87A8W2</td>\n",
       "    </tr>\n",
       "  </tbody>\n",
       "</table>\n",
       "<p>2607 rows × 1 columns</p>\n",
       "</div>"
      ],
      "text/plain": [
       "              item\n",
       "252426  B00G5R4E3Q\n",
       "16552   B0002YPZLI\n",
       "129070  B003E36UJU\n",
       "188150  B006SEMQEK\n",
       "235215  B00C8O2BM6\n",
       "...            ...\n",
       "232724  B00BRYE6PI\n",
       "78731   B0018OFVEM\n",
       "47272   B000KSW1SG\n",
       "6727    B00004Z2WN\n",
       "240963  B00D87A8W2\n",
       "\n",
       "[2607 rows x 1 columns]"
      ]
     },
     "execution_count": 23,
     "metadata": {},
     "output_type": "execute_result"
    }
   ],
   "source": [
    "product_sample"
   ]
  },
  {
   "cell_type": "code",
   "execution_count": 24,
   "id": "norman-variety",
   "metadata": {},
   "outputs": [],
   "source": [
    "customer= home.user[0]"
   ]
  },
  {
   "cell_type": "code",
   "execution_count": 25,
   "id": "sitting-grammar",
   "metadata": {},
   "outputs": [
    {
     "data": {
      "text/plain": [
       "'A15I9QV4OG22A6'"
      ]
     },
     "execution_count": 25,
     "metadata": {},
     "output_type": "execute_result"
    }
   ],
   "source": [
    "customer"
   ]
  },
  {
   "cell_type": "code",
   "execution_count": 26,
   "id": "controlling-clearing",
   "metadata": {},
   "outputs": [],
   "source": [
    "product_sample['prediction']= product_sample['item'].apply(lambda x: svd.predict(customer,x).est)"
   ]
  },
  {
   "cell_type": "code",
   "execution_count": 28,
   "id": "finnish-friendly",
   "metadata": {},
   "outputs": [
    {
     "data": {
      "text/html": [
       "<div>\n",
       "<style scoped>\n",
       "    .dataframe tbody tr th:only-of-type {\n",
       "        vertical-align: middle;\n",
       "    }\n",
       "\n",
       "    .dataframe tbody tr th {\n",
       "        vertical-align: top;\n",
       "    }\n",
       "\n",
       "    .dataframe thead th {\n",
       "        text-align: right;\n",
       "    }\n",
       "</style>\n",
       "<table border=\"1\" class=\"dataframe\">\n",
       "  <thead>\n",
       "    <tr style=\"text-align: right;\">\n",
       "      <th></th>\n",
       "      <th>item</th>\n",
       "      <th>prediction</th>\n",
       "    </tr>\n",
       "  </thead>\n",
       "  <tbody>\n",
       "    <tr>\n",
       "      <th>137500</th>\n",
       "      <td>B003V0IMZQ</td>\n",
       "      <td>5.000000</td>\n",
       "    </tr>\n",
       "    <tr>\n",
       "      <th>142510</th>\n",
       "      <td>B0041SMX4S</td>\n",
       "      <td>4.941520</td>\n",
       "    </tr>\n",
       "    <tr>\n",
       "      <th>177519</th>\n",
       "      <td>B005OLVDJC</td>\n",
       "      <td>4.924237</td>\n",
       "    </tr>\n",
       "    <tr>\n",
       "      <th>10052</th>\n",
       "      <td>B0000CEZ8X</td>\n",
       "      <td>4.874159</td>\n",
       "    </tr>\n",
       "    <tr>\n",
       "      <th>44000</th>\n",
       "      <td>B000JFJLWE</td>\n",
       "      <td>4.869977</td>\n",
       "    </tr>\n",
       "    <tr>\n",
       "      <th>...</th>\n",
       "      <td>...</td>\n",
       "      <td>...</td>\n",
       "    </tr>\n",
       "    <tr>\n",
       "      <th>84833</th>\n",
       "      <td>B001DD9ZFY</td>\n",
       "      <td>2.927977</td>\n",
       "    </tr>\n",
       "    <tr>\n",
       "      <th>215130</th>\n",
       "      <td>B009AO8MO8</td>\n",
       "      <td>2.894556</td>\n",
       "    </tr>\n",
       "    <tr>\n",
       "      <th>205233</th>\n",
       "      <td>B008BXD7QC</td>\n",
       "      <td>2.858577</td>\n",
       "    </tr>\n",
       "    <tr>\n",
       "      <th>243881</th>\n",
       "      <td>B00DV1LF9A</td>\n",
       "      <td>2.832995</td>\n",
       "    </tr>\n",
       "    <tr>\n",
       "      <th>188477</th>\n",
       "      <td>B006UA7930</td>\n",
       "      <td>1.722803</td>\n",
       "    </tr>\n",
       "  </tbody>\n",
       "</table>\n",
       "<p>2607 rows × 2 columns</p>\n",
       "</div>"
      ],
      "text/plain": [
       "              item  prediction\n",
       "137500  B003V0IMZQ    5.000000\n",
       "142510  B0041SMX4S    4.941520\n",
       "177519  B005OLVDJC    4.924237\n",
       "10052   B0000CEZ8X    4.874159\n",
       "44000   B000JFJLWE    4.869977\n",
       "...            ...         ...\n",
       "84833   B001DD9ZFY    2.927977\n",
       "215130  B009AO8MO8    2.894556\n",
       "205233  B008BXD7QC    2.858577\n",
       "243881  B00DV1LF9A    2.832995\n",
       "188477  B006UA7930    1.722803\n",
       "\n",
       "[2607 rows x 2 columns]"
      ]
     },
     "execution_count": 28,
     "metadata": {},
     "output_type": "execute_result"
    }
   ],
   "source": [
    "product_sample.sort_values(by='prediction',ascending=False)"
   ]
  },
  {
   "cell_type": "code",
   "execution_count": null,
   "id": "rapid-assistant",
   "metadata": {},
   "outputs": [],
   "source": []
  }
 ],
 "metadata": {
  "kernelspec": {
   "display_name": "Python 3",
   "language": "python",
   "name": "python3"
  },
  "language_info": {
   "codemirror_mode": {
    "name": "ipython",
    "version": 3
   },
   "file_extension": ".py",
   "mimetype": "text/x-python",
   "name": "python",
   "nbconvert_exporter": "python",
   "pygments_lexer": "ipython3",
   "version": "3.8.5"
  }
 },
 "nbformat": 4,
 "nbformat_minor": 5
}

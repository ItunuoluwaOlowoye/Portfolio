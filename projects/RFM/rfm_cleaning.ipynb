{
 "cells": [
  {
   "cell_type": "code",
   "execution_count": 1,
   "metadata": {},
   "outputs": [],
   "source": [
    "import numpy as np\n",
    "import pandas as pd\n",
    "import seaborn as sns\n",
    "import warnings\n",
    "warnings.filterwarnings('ignore')"
   ]
  },
  {
   "cell_type": "code",
   "execution_count": 2,
   "metadata": {},
   "outputs": [],
   "source": [
    "sales = pd.read_csv('datasets/superstore_sales.csv', parse_dates=['Order Date', 'Ship Date'])"
   ]
  },
  {
   "cell_type": "markdown",
   "metadata": {},
   "source": [
    "##### EDA\n",
    "Note the date range\n",
    "1. Total number of orders\n",
    "2. Total number of orders created per day; together with total number of orders shipped per day\n",
    "3. Ship Mode\n",
    "4. Total number of customers\n",
    "5. Total number of customers per state\n",
    "6. Total number of product categories sold\n",
    "7. Total sales\n",
    "8. Average sales per product category\n",
    "9. Average sales per state"
   ]
  },
  {
   "cell_type": "code",
   "execution_count": 3,
   "metadata": {},
   "outputs": [],
   "source": [
    "max_date = sales['Order Date'].max()"
   ]
  },
  {
   "cell_type": "code",
   "execution_count": 4,
   "metadata": {},
   "outputs": [],
   "source": [
    "rf_df = sales.groupby('Customer ID').agg(recency = ('Order Date', 'max'),\n",
    "                                         frequency = ('Order ID', 'nunique'))"
   ]
  },
  {
   "cell_type": "code",
   "execution_count": 5,
   "metadata": {},
   "outputs": [],
   "source": [
    "rf_df['recency'] = (max_date - rf_df['recency']).dt.days"
   ]
  },
  {
   "cell_type": "code",
   "execution_count": 6,
   "metadata": {},
   "outputs": [],
   "source": [
    "m_df = sales.groupby(['Customer ID','Order ID']).sum().reset_index()\\\n",
    "    .groupby('Customer ID').agg(monetary = ('Sales', 'median'))"
   ]
  },
  {
   "cell_type": "code",
   "execution_count": 7,
   "metadata": {},
   "outputs": [],
   "source": [
    "rfm_df = pd.concat([rf_df, m_df], axis=1)"
   ]
  },
  {
   "cell_type": "code",
   "execution_count": 8,
   "metadata": {},
   "outputs": [],
   "source": [
    "r_rank = rfm_df['recency'].rank(pct=True, ascending=False)\n",
    "f_rank = rfm_df['frequency'].rank(pct=True)\n",
    "m_rank = rfm_df['monetary'].rank(pct=True)"
   ]
  },
  {
   "cell_type": "code",
   "execution_count": 9,
   "metadata": {},
   "outputs": [],
   "source": [
    "ranks = [r_rank, f_rank, m_rank]"
   ]
  },
  {
   "cell_type": "code",
   "execution_count": 10,
   "metadata": {},
   "outputs": [],
   "source": [
    "bins=[0,0.5,1]\n",
    "names= ['L','H']\n",
    "numbers = [0,1]\n",
    "\n",
    "categories, scores = ({} for _ in range(2))\n",
    "for rank in ranks:\n",
    "    category = pd.cut(rank, bins, labels=names)\n",
    "    score = pd.cut(rank, bins, labels=numbers)\n",
    "    categories[rank.name] = category.astype(str)\n",
    "    scores[rank.name] = score.astype(int)"
   ]
  },
  {
   "cell_type": "code",
   "execution_count": 11,
   "metadata": {},
   "outputs": [],
   "source": [
    "rfm_df['rfm_category'] = categories['recency'] + categories['frequency'] + categories['monetary']"
   ]
  },
  {
   "cell_type": "code",
   "execution_count": 12,
   "metadata": {},
   "outputs": [],
   "source": [
    "rfm_df['rfm_score'] = scores['recency'] + scores['frequency'] + scores['monetary']"
   ]
  },
  {
   "cell_type": "code",
   "execution_count": 13,
   "metadata": {},
   "outputs": [
    {
     "data": {
      "text/plain": [
       "2    286\n",
       "1    269\n",
       "3    134\n",
       "0    104\n",
       "Name: rfm_score, dtype: int64"
      ]
     },
     "execution_count": 13,
     "metadata": {},
     "output_type": "execute_result"
    }
   ],
   "source": [
    "rfm_df.rfm_score.value_counts()"
   ]
  },
  {
   "cell_type": "code",
   "execution_count": 14,
   "metadata": {},
   "outputs": [
    {
     "data": {
      "text/plain": [
       "HHL    134\n",
       "HHH    134\n",
       "LLH    111\n",
       "LLL    104\n",
       "LHH     94\n",
       "LHL     87\n",
       "HLL     71\n",
       "HLH     58\n",
       "Name: rfm_category, dtype: int64"
      ]
     },
     "execution_count": 14,
     "metadata": {},
     "output_type": "execute_result"
    }
   ],
   "source": [
    "rfm_df.rfm_category.value_counts()"
   ]
  },
  {
   "cell_type": "code",
   "execution_count": 15,
   "metadata": {},
   "outputs": [],
   "source": [
    "rfm_df.to_csv('datasets/rfm_results.csv')"
   ]
  },
  {
   "cell_type": "code",
   "execution_count": null,
   "metadata": {},
   "outputs": [],
   "source": []
  },
  {
   "cell_type": "code",
   "execution_count": null,
   "metadata": {},
   "outputs": [],
   "source": []
  },
  {
   "cell_type": "code",
   "execution_count": null,
   "metadata": {},
   "outputs": [],
   "source": []
  },
  {
   "cell_type": "code",
   "execution_count": null,
   "metadata": {},
   "outputs": [],
   "source": []
  },
  {
   "cell_type": "code",
   "execution_count": null,
   "metadata": {},
   "outputs": [],
   "source": []
  },
  {
   "cell_type": "code",
   "execution_count": null,
   "metadata": {},
   "outputs": [],
   "source": []
  }
 ],
 "metadata": {
  "kernelspec": {
   "display_name": "streamlit",
   "language": "python",
   "name": "python3"
  },
  "language_info": {
   "codemirror_mode": {
    "name": "ipython",
    "version": 3
   },
   "file_extension": ".py",
   "mimetype": "text/x-python",
   "name": "python",
   "nbconvert_exporter": "python",
   "pygments_lexer": "ipython3",
   "version": "3.9.15"
  },
  "orig_nbformat": 4
 },
 "nbformat": 4,
 "nbformat_minor": 2
}
